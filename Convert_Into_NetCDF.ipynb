{
 "cells": [
  {
   "cell_type": "code",
   "execution_count": 2,
   "id": "a43b6484-42b2-45b4-ad3f-54109a3ef4b3",
   "metadata": {},
   "outputs": [
    {
     "name": "stdout",
     "output_type": "stream",
     "text": [
      "Collecting netCDF4\n",
      "  Downloading netCDF4-1.7.2-cp311-cp311-manylinux_2_17_x86_64.manylinux2014_x86_64.whl.metadata (1.8 kB)\n",
      "Requirement already satisfied: cftime in /opt/conda/lib/python3.11/site-packages (from netCDF4) (1.6.4.post1)\n",
      "Requirement already satisfied: certifi in /opt/conda/lib/python3.11/site-packages (from netCDF4) (2024.2.2)\n",
      "Requirement already satisfied: numpy in /opt/conda/lib/python3.11/site-packages (from netCDF4) (1.26.4)\n",
      "Downloading netCDF4-1.7.2-cp311-cp311-manylinux_2_17_x86_64.manylinux2014_x86_64.whl (9.3 MB)\n",
      "\u001b[2K   \u001b[90m━━━━━━━━━━━━━━━━━━━━━━━━━━━━━━━━━━━━━━━━\u001b[0m \u001b[32m9.3/9.3 MB\u001b[0m \u001b[31m49.1 MB/s\u001b[0m eta \u001b[36m0:00:00\u001b[0m00:01\u001b[0m00:01\u001b[0m\n",
      "\u001b[?25hInstalling collected packages: netCDF4\n",
      "Successfully installed netCDF4-1.7.2\n"
     ]
    }
   ],
   "source": [
    "!pip install netCDF4"
   ]
  },
  {
   "cell_type": "code",
   "execution_count": 7,
   "id": "de7ada52-c92f-4d7f-9fa6-1083827cdddd",
   "metadata": {},
   "outputs": [
    {
     "name": "stdout",
     "output_type": "stream",
     "text": [
      "Date shape: (144,)\n",
      "Longitude shape: (144,)\n",
      "Latitude shape: (144,)\n",
      "Pressure shape: (144, 112)\n",
      "Temperature shape: (144, 112)\n",
      "Data has been successfully saved to 2713_Sprof.txt\n"
     ]
    }
   ],
   "source": [
    "import numpy as np\n",
    "import pandas as pd\n",
    "from netCDF4 import Dataset\n",
    "\n",
    "# Function to convert NetCDF file to a text file\n",
    "def nc_to_txt(nc_file, txt_file):\n",
    "    # Open the NetCDF file\n",
    "    dataset = Dataset(nc_file, 'r')\n",
    "\n",
    "    # Extract the variables you want from the NetCDF file\n",
    "    date = dataset.variables['JULD'][:]  # Julian Date\n",
    "    lon = dataset.variables['LONGITUDE'][:]  # Longitude\n",
    "    lat = dataset.variables['LATITUDE'][:]  # Latitude\n",
    "    X = dataset.variables['POSITION_QC'][:]  # Quality control flag\n",
    "    p = dataset.variables['PRES'][:]  # Pressure\n",
    "    T = dataset.variables['TEMP'][:]  # Temperature\n",
    "\n",
    "    # Close the dataset\n",
    "    dataset.close()\n",
    "\n",
    "    # Print the shapes of variables to check their dimensions\n",
    "    print(f\"Date shape: {date.shape}\")\n",
    "    print(f\"Longitude shape: {lon.shape}\")\n",
    "    print(f\"Latitude shape: {lat.shape}\")\n",
    "    print(f\"Pressure shape: {p.shape}\")\n",
    "    print(f\"Temperature shape: {T.shape}\")\n",
    "\n",
    "    # Flatten or reshape the arrays as necessary\n",
    "    # Example: flattening 2D arrays into 1D if time and pressure are separate\n",
    "    # You might need to iterate or match the lengths of the arrays based on your data structure\n",
    "\n",
    "    if len(date.shape) > 1:  # If `date` is multi-dimensional, flatten it\n",
    "        date = date.flatten()\n",
    "    \n",
    "    if len(lon.shape) > 1:  # If `lon` is multi-dimensional, flatten it\n",
    "        lon = lon.flatten()\n",
    "\n",
    "    if len(lat.shape) > 1:  # If `lat` is multi-dimensional, flatten it\n",
    "        lat = lat.flatten()\n",
    "\n",
    "    if len(X.shape) > 1:  # If `X` is multi-dimensional, flatten it\n",
    "        X = X.flatten()\n",
    "\n",
    "    if len(p.shape) > 1:  # If `p` (Pressure) is multi-dimensional, flatten it\n",
    "        p = p.flatten()\n",
    "\n",
    "    if len(T.shape) > 1:  # If `T` (Temperature) is multi-dimensional, flatten it\n",
    "        T = T.flatten()\n",
    "\n",
    "    # Ensure that all arrays are of the same length\n",
    "    min_len = min(len(date), len(lon), len(lat), len(X), len(p), len(T))\n",
    "    date = date[:min_len]\n",
    "    lon = lon[:min_len]\n",
    "    lat = lat[:min_len]\n",
    "    X = X[:min_len]\n",
    "    p = p[:min_len]\n",
    "    T = T[:min_len]\n",
    "\n",
    "    # Create a DataFrame with the data\n",
    "    df = pd.DataFrame({\n",
    "        'JULD': date,\n",
    "        'LONGITUDE': lon,\n",
    "        'LATITUDE': lat,\n",
    "        'POSITION_QC': X,\n",
    "        'PRES': p,\n",
    "        'TEMP': T\n",
    "    })\n",
    "\n",
    "    # Save the DataFrame to a .txt file (space-separated)\n",
    "    df.to_csv(txt_file, sep=' ', index=False)\n",
    "\n",
    "    print(f\"Data has been successfully saved to {txt_file}\")\n",
    "\n",
    "# Example usage\n",
    "nc_file = '2713_Sprof.nc'  # Replace with your NetCDF file name\n",
    "txt_file = '2713_Sprof.txt'  # Replace with your desired output text file name\n",
    "\n",
    "# Convert the NetCDF file to a text file\n",
    "nc_to_txt(nc_file, txt_file)\n"
   ]
  },
  {
   "cell_type": "code",
   "execution_count": null,
   "id": "162d131f-e2dd-42df-9f66-cff1dc6a7b27",
   "metadata": {},
   "outputs": [],
   "source": []
  }
 ],
 "metadata": {
  "kernelspec": {
   "display_name": "Python 3 (ipykernel)",
   "language": "python",
   "name": "python3"
  },
  "language_info": {
   "codemirror_mode": {
    "name": "ipython",
    "version": 3
   },
   "file_extension": ".py",
   "mimetype": "text/x-python",
   "name": "python",
   "nbconvert_exporter": "python",
   "pygments_lexer": "ipython3",
   "version": "3.11.9"
  }
 },
 "nbformat": 4,
 "nbformat_minor": 5
}
